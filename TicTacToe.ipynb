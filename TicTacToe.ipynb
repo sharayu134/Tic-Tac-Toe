{
 "cells": [
  {
   "cell_type": "code",
   "execution_count": 10,
   "metadata": {},
   "outputs": [],
   "source": [
    "from IPython.display import clear_output"
   ]
  },
  {
   "cell_type": "code",
   "execution_count": 11,
   "metadata": {},
   "outputs": [],
   "source": [
    "def game_on_choice():\n",
    "    res=input('Do you want to continue: ').upper()\n",
    "    clear_output()\n",
    "    if res in ('YES','Y'):\n",
    "        return True\n",
    "    if res in ('NO', 'N'):\n",
    "        return False\n",
    "    else:\n",
    "        print('Incorrect choice Enter YES/Y or NO/N ')\n",
    "        choice = game_on_choice()\n",
    "        return choice"
   ]
  },
  {
   "cell_type": "code",
   "execution_count": 33,
   "metadata": {},
   "outputs": [],
   "source": [
    "def display(a):\n",
    "    print('{} | {} | {} \\n{} | {} | {}\\n{} | {} | {}'.format(a[7],a[8],a[9],a[4],a[5],a[6],a[1],a[2],a[3]))"
   ]
  },
  {
   "cell_type": "code",
   "execution_count": 13,
   "metadata": {},
   "outputs": [],
   "source": [
    "def user_choice():\n",
    "    choice=(input('Enter input number from 1 to 9 : '))\n",
    "    clear_output()\n",
    "    if(choice.isdigit()):\n",
    "        a=int(choice)\n",
    "        if(a in range(1,10)):\n",
    "            return a\n",
    "        else:\n",
    "            print('Value should be in range 1 to 9')\n",
    "            return user_choice()\n",
    "    else:\n",
    "        print('Invalid input !!!')\n",
    "        return user_choice()"
   ]
  },
  {
   "cell_type": "code",
   "execution_count": 56,
   "metadata": {},
   "outputs": [],
   "source": [
    "def replace_choice(Board_list,position,num):\n",
    "    if num%2==0:\n",
    "        Board_list[position]='X'\n",
    "    else:\n",
    "        Board_list[position]='O'\n",
    "    return Board_list"
   ]
  },
  {
   "cell_type": "code",
   "execution_count": 66,
   "metadata": {},
   "outputs": [],
   "source": [
    "def is_win(l):\n",
    "    if(l[1]==l[2]==l[3]=='X' or l[4]==l[5]==l[6]=='X' or l[7]==l[8]==l[9]=='X' or l[7]==l[5]==l[3]=='X' or l[9]==l[5]==l[1]=='X' or l[7]==l[4]==l[1]=='X' or l[2]==l[5]==l[8]=='X' or l[3]==l[6]==l[9]=='X' or l[1]==l[2]==l[3]=='O' or l[4]==l[5]==l[6]=='O' or l[7]==l[8]==l[9]=='O' or l[7]==l[5]==l[3]=='O' or l[9]==l[5]==l[1]=='O' or l[7]==l[4]==l[1]=='O' or l[2]==l[5]==l[8]=='O' or l[3]==l[6]==l[9]=='O'):\n",
    "        return True\n",
    "    else:\n",
    "        return False"
   ]
  },
  {
   "cell_type": "code",
   "execution_count": 67,
   "metadata": {},
   "outputs": [],
   "source": [
    "is_game_on=True\n",
    "Board_list=['#',' ',' ',' ',' ',' ',' ',' ',' ',' ']\n",
    "player_choice=input('will player 1 start :')\n",
    "while is_game_on:\n",
    "    for num in range(0,9):\n",
    "        if not is_win(Board_list):\n",
    "            position =user_choice()\n",
    "            replace_choice(Board_list,position,num)\n",
    "            display(Board_list)\n",
    "        else:\n",
    "            print('{} won'.format(Board_list[position]))\n",
    "            break;\n",
    "    is_game_on=game_on_choice()"
   ]
  },
  {
   "cell_type": "code",
   "execution_count": null,
   "metadata": {},
   "outputs": [],
   "source": []
  },
  {
   "cell_type": "code",
   "execution_count": null,
   "metadata": {},
   "outputs": [],
   "source": []
  },
  {
   "cell_type": "code",
   "execution_count": null,
   "metadata": {},
   "outputs": [],
   "source": []
  },
  {
   "cell_type": "code",
   "execution_count": null,
   "metadata": {},
   "outputs": [],
   "source": []
  }
 ],
 "metadata": {
  "kernelspec": {
   "display_name": "Python 3",
   "language": "python",
   "name": "python3"
  },
  "language_info": {
   "codemirror_mode": {
    "name": "ipython",
    "version": 3
   },
   "file_extension": ".py",
   "mimetype": "text/x-python",
   "name": "python",
   "nbconvert_exporter": "python",
   "pygments_lexer": "ipython3",
   "version": "3.7.1"
  }
 },
 "nbformat": 4,
 "nbformat_minor": 2
}
