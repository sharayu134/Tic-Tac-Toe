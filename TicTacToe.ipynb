{
 "cells": [
  {
   "cell_type": "code",
   "execution_count": 1,
   "metadata": {},
   "outputs": [],
   "source": [
    "def display(a):\n",
    "    print(a)"
   ]
  },
  {
   "cell_type": "code",
   "execution_count": 2,
   "metadata": {},
   "outputs": [
    {
     "name": "stdout",
     "output_type": "stream",
     "text": [
      "[1, 2, 3, 4]\n"
     ]
    }
   ],
   "source": [
    "lst1=[1,2,3,4]\n",
    "display(lst1)"
   ]
  },
  {
   "cell_type": "code",
   "execution_count": 3,
   "metadata": {},
   "outputs": [],
   "source": [
    "from IPython.display import clear_output"
   ]
  },
  {
   "cell_type": "code",
   "execution_count": 6,
   "metadata": {},
   "outputs": [
    {
     "name": "stdout",
     "output_type": "stream",
     "text": [
      "9\n"
     ]
    }
   ],
   "source": [
    "def user_choice():\n",
    "    choice=(input('Enter input number from 1 to 9 : '))\n",
    "    clear_output()\n",
    "    if(choice.isdigit()):\n",
    "        a=int(choice)\n",
    "        if(a in range(1,10)):\n",
    "            return a\n",
    "        else:\n",
    "            print('Value should be in range 1 to 9')\n",
    "            return user_choice()\n",
    "    else:\n",
    "        print('Invalid input !!!')\n",
    "        return user_choice()        \n",
    "     \n",
    "result =user_choice()\n",
    "print(result)"
   ]
  },
  {
   "cell_type": "code",
   "execution_count": 7,
   "metadata": {},
   "outputs": [
    {
     "name": "stdout",
     "output_type": "stream",
     "text": [
      "['#', 1, 2, 3, 4, 'X', 6, 7, 8, 9]\n"
     ]
    }
   ],
   "source": [
    "Board_list=['#',1,2,3,4,5,6,7,8,9]\n",
    "result =user_choice()\n",
    "Board_list[result]='X'\n",
    "display(Board_list)"
   ]
  },
  {
   "cell_type": "code",
   "execution_count": null,
   "metadata": {},
   "outputs": [],
   "source": []
  }
 ],
 "metadata": {
  "kernelspec": {
   "display_name": "Python 3",
   "language": "python",
   "name": "python3"
  },
  "language_info": {
   "codemirror_mode": {
    "name": "ipython",
    "version": 3
   },
   "file_extension": ".py",
   "mimetype": "text/x-python",
   "name": "python",
   "nbconvert_exporter": "python",
   "pygments_lexer": "ipython3",
   "version": "3.7.1"
  }
 },
 "nbformat": 4,
 "nbformat_minor": 2
}
