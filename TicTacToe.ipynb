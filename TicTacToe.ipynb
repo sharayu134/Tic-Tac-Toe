{
 "cells": [
  {
   "cell_type": "code",
   "execution_count": 1,
   "metadata": {},
   "outputs": [],
   "source": [
    "from IPython.display import clear_output"
   ]
  },
  {
   "cell_type": "code",
   "execution_count": 2,
   "metadata": {},
   "outputs": [],
   "source": [
    "def display(a):\n",
    "    print(a)"
   ]
  },
  {
   "cell_type": "code",
   "execution_count": 3,
   "metadata": {},
   "outputs": [],
   "source": [
    "def user_choice():\n",
    "    choice=(input('Enter input number from 1 to 9 : '))\n",
    "    clear_output()\n",
    "    if(choice.isdigit()):\n",
    "        a=int(choice)\n",
    "        if(a in range(1,10)):\n",
    "            return a\n",
    "        else:\n",
    "            print('Value should be in range 1 to 9')\n",
    "            return user_choice()\n",
    "    else:\n",
    "        print('Invalid input !!!')\n",
    "        return user_choice()"
   ]
  },
  {
   "cell_type": "code",
   "execution_count": 4,
   "metadata": {},
   "outputs": [],
   "source": [
    "def game_on_choice():\n",
    "    res=input('Do you want to continue: ').upper()\n",
    "    clear_output()\n",
    "    if res in ('YES','Y'):\n",
    "        return True\n",
    "    if res in ('NO', 'N'):\n",
    "        return False\n",
    "    else:\n",
    "        print('Incorrect choice Enter YES/Y or NO/N ')\n",
    "        choice = game_on_choice()\n",
    "        return choice"
   ]
  },
  {
   "cell_type": "code",
   "execution_count": 5,
   "metadata": {},
   "outputs": [],
   "source": [
    "def replace_choice(Board_list,position):\n",
    "    Board_list[position]='X'\n",
    "    return Board_list"
   ]
  },
  {
   "cell_type": "code",
   "execution_count": 6,
   "metadata": {},
   "outputs": [],
   "source": [
    "Board_list=['#',1,2,3,4,5,6,7,8,9]"
   ]
  },
  {
   "cell_type": "code",
   "execution_count": 7,
   "metadata": {},
   "outputs": [],
   "source": [
    "is_game_on=True\n",
    "while is_game_on:\n",
    "    position =user_choice()\n",
    "    replace_choice(Board_list,position)\n",
    "    display(Board_list)\n",
    "    is_game_on=game_on_choice()"
   ]
  },
  {
   "cell_type": "code",
   "execution_count": null,
   "metadata": {},
   "outputs": [],
   "source": []
  }
 ],
 "metadata": {
  "kernelspec": {
   "display_name": "Python 3",
   "language": "python",
   "name": "python3"
  },
  "language_info": {
   "codemirror_mode": {
    "name": "ipython",
    "version": 3
   },
   "file_extension": ".py",
   "mimetype": "text/x-python",
   "name": "python",
   "nbconvert_exporter": "python",
   "pygments_lexer": "ipython3",
   "version": "3.7.1"
  }
 },
 "nbformat": 4,
 "nbformat_minor": 2
}
